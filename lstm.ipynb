{
 "cells": [
  {
   "cell_type": "code",
   "execution_count": 40,
   "metadata": {
    "collapsed": true
   },
   "outputs": [],
   "source": [
    "from keras.models import Sequential\n",
    "from keras.layers import Dense, Activation\n",
    "from keras.layers import LSTM\n",
    "from keras.optimizers import RMSprop\n",
    "from keras.utils.data_utils import get_file\n",
    "import numpy as np\n",
    "import random\n",
    "import sys\n",
    "import neologdn\n",
    "\n",
    "from classification.tools.parser import MessageManager, CabochaParser\n",
    "from classification.tools.loader import BookManager"
   ]
  },
  {
   "cell_type": "code",
   "execution_count": 79,
   "metadata": {
    "collapsed": true
   },
   "outputs": [
    {
     "name": "stdout",
     "output_type": "stream",
     "text": [
      "0\n1\n"
     ]
    },
    {
     "name": "stdout",
     "output_type": "stream",
     "text": [
      "2\n"
     ]
    },
    {
     "name": "stdout",
     "output_type": "stream",
     "text": [
      "3\n4\n"
     ]
    },
    {
     "name": "stdout",
     "output_type": "stream",
     "text": [
      "5\n"
     ]
    },
    {
     "name": "stdout",
     "output_type": "stream",
     "text": [
      "6\n7\n"
     ]
    },
    {
     "name": "stdout",
     "output_type": "stream",
     "text": [
      "8\n9\n"
     ]
    },
    {
     "name": "stdout",
     "output_type": "stream",
     "text": [
      "10\n"
     ]
    },
    {
     "name": "stdout",
     "output_type": "stream",
     "text": [
      "11\n"
     ]
    },
    {
     "name": "stdout",
     "output_type": "stream",
     "text": [
      "12\n13\n14\n"
     ]
    },
    {
     "name": "stdout",
     "output_type": "stream",
     "text": [
      "15\n"
     ]
    },
    {
     "name": "stdout",
     "output_type": "stream",
     "text": [
      "16\n17\n"
     ]
    },
    {
     "name": "stdout",
     "output_type": "stream",
     "text": [
      "18\n"
     ]
    },
    {
     "name": "stdout",
     "output_type": "stream",
     "text": [
      "19\n20\n"
     ]
    }
   ],
   "source": [
    "bookmanager = BookManager()\n",
    "manager = MessageManager(parser=CabochaParser())\n",
    "urls = bookmanager.load('101')\n",
    "text = ''\n",
    "for i, url in enumerate(urls):\n",
    "    if i>20:\n",
    "        break\n",
    "    with open(url, 'rt') as f:\n",
    "        temp = f.read()\n",
    "    data = manager.extract_message(temp)\n",
    "    parsed = data.text.replace('\\n', '')\n",
    "    result = neologdn.normalize(parsed)\n",
    "    text += result\n",
    "    print(i)"
   ]
  },
  {
   "cell_type": "code",
   "execution_count": 81,
   "metadata": {},
   "outputs": [
    {
     "name": "stdout",
     "output_type": "stream",
     "text": [
      "corpus length: 100908\ntotal chars: 1855\n"
     ]
    }
   ],
   "source": [
    "# 文書生成\n",
    "path = get_file('nietzsche.txt', origin='https://s3.amazonaws.com/text-datasets/nietzsche.txt')\n",
    "#text = open(path).read().lower()\n",
    "print('corpus length:', len(text))\n",
    "\n",
    "chars = sorted(list(set(text)))\n",
    "print('total chars:', len(chars))\n",
    "char_indices = dict((c, i) for i, c in enumerate(chars))\n",
    "indices_char = dict((i, c) for i, c in enumerate(chars))\n"
   ]
  },
  {
   "cell_type": "code",
   "execution_count": 82,
   "metadata": {},
   "outputs": [
    {
     "name": "stdout",
     "output_type": "stream",
     "text": [
      "nb sentences: 33623\n"
     ]
    }
   ],
   "source": [
    "maxlen = 40\n",
    "step = 3\n",
    "sentences = [] # 40文字のセンテンス\n",
    "next_chars = [] # 'あ'などの1文字\n",
    "for i in range(0, len(text) - maxlen, step):\n",
    "    sentences.append(text[i: i + maxlen])\n",
    "    next_chars.append(text[i + maxlen])\n",
    "print('nb sentences:', len(sentences))"
   ]
  },
  {
   "cell_type": "code",
   "execution_count": 83,
   "metadata": {},
   "outputs": [],
   "source": [
    "x = np.zeros((len(sentences), maxlen, len(chars)), dtype=np.bool)\n",
    "y = np.zeros((len(sentences), len(chars)), dtype=np.bool)\n",
    "for i, sentence in enumerate(sentences):\n",
    "    for t, char in enumerate(sentence):\n",
    "        x[i, t, char_indices[char]] = 1\n",
    "    y[i, char_indices[next_chars[i]]] = 1"
   ]
  },
  {
   "cell_type": "code",
   "execution_count": 112,
   "metadata": {},
   "outputs": [
    {
     "data": {
      "text/plain": [
       "'よ'"
      ]
     },
     "execution_count": 112,
     "metadata": {},
     "output_type": "execute_result"
    }
   ],
   "source": [
    ""
   ]
  },
  {
   "cell_type": "code",
   "execution_count": 84,
   "metadata": {},
   "outputs": [],
   "source": [
    "# Model\n",
    "model = Sequential()\n",
    "model.add(LSTM(128, input_shape=(maxlen, len(chars))))\n",
    "model.add(Dense(len(chars)))\n",
    "model.add(Activation('softmax'))\n",
    "\n",
    "optimizer = RMSprop(lr=0.01)\n",
    "model.compile(loss='categorical_crossentropy', optimizer=optimizer)"
   ]
  },
  {
   "cell_type": "code",
   "execution_count": 85,
   "metadata": {},
   "outputs": [],
   "source": [
    "def sample(preds, temperature=1.0):\n",
    "    preds = np.asarray(preds).astype('float64')\n",
    "    preds = np.log(preds) / temperature\n",
    "    exp_preds = np.exp(preds)\n",
    "    preds = exp_preds / np.sum(exp_preds)\n",
    "    probas = np.random.multinomial(1, preds, 1)\n",
    "    return np.argmax(probas)"
   ]
  },
  {
   "cell_type": "code",
   "execution_count": 88,
   "metadata": {
    "collapsed": true
   },
   "outputs": [
    {
     "name": "stdout",
     "output_type": "stream",
     "text": [
      "\n--------------------------------------------------\nIteration 1\n"
     ]
    },
    {
     "name": "stdout",
     "output_type": "stream",
     "text": [
      "\n--------------------------------------------------\nIteration 2\n"
     ]
    },
    {
     "name": "stdout",
     "output_type": "stream",
     "text": [
      "\n--------------------------------------------------\nIteration 3\n"
     ]
    },
    {
     "name": "stdout",
     "output_type": "stream",
     "text": [
      "\n--------------------------------------------------\nIteration 4\n"
     ]
    },
    {
     "name": "stdout",
     "output_type": "stream",
     "text": [
      "\n--------------------------------------------------\nIteration 5\n"
     ]
    },
    {
     "name": "stdout",
     "output_type": "stream",
     "text": [
      "\n--------------------------------------------------\nIteration 6\n"
     ]
    },
    {
     "name": "stdout",
     "output_type": "stream",
     "text": [
      "\n--------------------------------------------------\nIteration 7\n"
     ]
    },
    {
     "name": "stdout",
     "output_type": "stream",
     "text": [
      "\n--------------------------------------------------\nIteration 8\n"
     ]
    },
    {
     "name": "stdout",
     "output_type": "stream",
     "text": [
      "\n--------------------------------------------------\nIteration 9\n"
     ]
    }
   ],
   "source": [
    "# Train\n",
    "for iteration in range(1, 10):\n",
    "    print()\n",
    "    print('-' * 50)\n",
    "    print('Iteration', iteration)\n",
    "    model.fit(x, y, batch_size=128, epochs=1, verbose=False)\n",
    "    \n",
    "    \n"
   ]
  },
  {
   "cell_type": "code",
   "execution_count": 89,
   "metadata": {
    "collapsed": true
   },
   "outputs": [
    {
     "name": "stdout",
     "output_type": "stream",
     "text": [
      "57395\n\n---- diversity: 1.0\n----- Generating with seed: \"風が発生し、その音が耳を駆け抜けて行きます。私はもう一度手を伸ばしました。今度は\"\n風が発生し、その音が耳を駆け抜けて行きます。私はもう一度手を伸ばしました。今度は地"
     ]
    },
    {
     "name": "stdout",
     "output_type": "stream",
     "text": [
      "メ"
     ]
    },
    {
     "name": "stdout",
     "output_type": "stream",
     "text": [
      "な"
     ]
    },
    {
     "name": "stdout",
     "output_type": "stream",
     "text": [
      "い"
     ]
    },
    {
     "name": "stdout",
     "output_type": "stream",
     "text": [
      "ん"
     ]
    },
    {
     "name": "stdout",
     "output_type": "stream",
     "text": [
      "だ"
     ]
    },
    {
     "name": "stdout",
     "output_type": "stream",
     "text": [
      "?"
     ]
    },
    {
     "name": "stdout",
     "output_type": "stream",
     "text": [
      "な"
     ]
    },
    {
     "name": "stdout",
     "output_type": "stream",
     "text": [
      "っ"
     ]
    },
    {
     "name": "stdout",
     "output_type": "stream",
     "text": [
      "て"
     ]
    },
    {
     "name": "stdout",
     "output_type": "stream",
     "text": [
      "」"
     ]
    },
    {
     "name": "stdout",
     "output_type": "stream",
     "text": [
      "?"
     ]
    },
    {
     "name": "stdout",
     "output_type": "stream",
     "text": [
      "変"
     ]
    },
    {
     "name": "stdout",
     "output_type": "stream",
     "text": [
      "わ"
     ]
    },
    {
     "name": "stdout",
     "output_type": "stream",
     "text": [
      "り"
     ]
    },
    {
     "name": "stdout",
     "output_type": "stream",
     "text": [
      "と"
     ]
    },
    {
     "name": "stdout",
     "output_type": "stream",
     "text": [
      "な"
     ]
    },
    {
     "name": "stdout",
     "output_type": "stream",
     "text": [
      "に"
     ]
    },
    {
     "name": "stdout",
     "output_type": "stream",
     "text": [
      "象"
     ]
    },
    {
     "name": "stdout",
     "output_type": "stream",
     "text": [
      "…"
     ]
    },
    {
     "name": "stdout",
     "output_type": "stream",
     "text": [
      "は"
     ]
    },
    {
     "name": "stdout",
     "output_type": "stream",
     "text": [
      "…"
     ]
    },
    {
     "name": "stdout",
     "output_type": "stream",
     "text": [
      "」"
     ]
    },
    {
     "name": "stdout",
     "output_type": "stream",
     "text": [
      "「"
     ]
    },
    {
     "name": "stdout",
     "output_type": "stream",
     "text": [
      "家"
     ]
    },
    {
     "name": "stdout",
     "output_type": "stream",
     "text": [
      "は"
     ]
    },
    {
     "name": "stdout",
     "output_type": "stream",
     "text": [
      "ス"
     ]
    },
    {
     "name": "stdout",
     "output_type": "stream",
     "text": [
      "ー"
     ]
    },
    {
     "name": "stdout",
     "output_type": "stream",
     "text": [
      "ス"
     ]
    },
    {
     "name": "stdout",
     "output_type": "stream",
     "text": [
      "』"
     ]
    },
    {
     "name": "stdout",
     "output_type": "stream",
     "text": [
      "っ"
     ]
    },
    {
     "name": "stdout",
     "output_type": "stream",
     "text": [
      "て"
     ]
    },
    {
     "name": "stdout",
     "output_type": "stream",
     "text": [
      "ブ"
     ]
    },
    {
     "name": "stdout",
     "output_type": "stream",
     "text": [
      "ン"
     ]
    },
    {
     "name": "stdout",
     "output_type": "stream",
     "text": [
      "す"
     ]
    },
    {
     "name": "stdout",
     "output_type": "stream",
     "text": [
      "る"
     ]
    },
    {
     "name": "stdout",
     "output_type": "stream",
     "text": [
      "プ"
     ]
    },
    {
     "name": "stdout",
     "output_type": "stream",
     "text": [
      "目"
     ]
    },
    {
     "name": "stdout",
     "output_type": "stream",
     "text": [
      "ゲ"
     ]
    },
    {
     "name": "stdout",
     "output_type": "stream",
     "text": [
      "ー"
     ]
    },
    {
     "name": "stdout",
     "output_type": "stream",
     "text": [
      "・"
     ]
    },
    {
     "name": "stdout",
     "output_type": "stream",
     "text": [
      "・"
     ]
    },
    {
     "name": "stdout",
     "output_type": "stream",
     "text": [
      "・"
     ]
    },
    {
     "name": "stdout",
     "output_type": "stream",
     "text": [
      "ラ"
     ]
    },
    {
     "name": "stdout",
     "output_type": "stream",
     "text": [
      "・"
     ]
    },
    {
     "name": "stdout",
     "output_type": "stream",
     "text": [
      "・"
     ]
    },
    {
     "name": "stdout",
     "output_type": "stream",
     "text": [
      "・"
     ]
    },
    {
     "name": "stdout",
     "output_type": "stream",
     "text": [
      "お"
     ]
    },
    {
     "name": "stdout",
     "output_type": "stream",
     "text": [
      "亀"
     ]
    },
    {
     "name": "stdout",
     "output_type": "stream",
     "text": [
      "み"
     ]
    },
    {
     "name": "stdout",
     "output_type": "stream",
     "text": [
      "目"
     ]
    },
    {
     "name": "stdout",
     "output_type": "stream",
     "text": [
      "す"
     ]
    },
    {
     "name": "stdout",
     "output_type": "stream",
     "text": [
      "た"
     ]
    },
    {
     "name": "stdout",
     "output_type": "stream",
     "text": [
      "。"
     ]
    },
    {
     "name": "stdout",
     "output_type": "stream",
     "text": [
      "初"
     ]
    },
    {
     "name": "stdout",
     "output_type": "stream",
     "text": [
      "の"
     ]
    },
    {
     "name": "stdout",
     "output_type": "stream",
     "text": [
      "高"
     ]
    },
    {
     "name": "stdout",
     "output_type": "stream",
     "text": [
      "は"
     ]
    },
    {
     "name": "stdout",
     "output_type": "stream",
     "text": [
      "神"
     ]
    },
    {
     "name": "stdout",
     "output_type": "stream",
     "text": [
      "様"
     ]
    },
    {
     "name": "stdout",
     "output_type": "stream",
     "text": [
      "に"
     ]
    },
    {
     "name": "stdout",
     "output_type": "stream",
     "text": [
      "使"
     ]
    },
    {
     "name": "stdout",
     "output_type": "stream",
     "text": [
      "え"
     ]
    },
    {
     "name": "stdout",
     "output_type": "stream",
     "text": [
      "て"
     ]
    },
    {
     "name": "stdout",
     "output_type": "stream",
     "text": [
      "綺"
     ]
    },
    {
     "name": "stdout",
     "output_type": "stream",
     "text": [
      "本"
     ]
    },
    {
     "name": "stdout",
     "output_type": "stream",
     "text": [
      "だ"
     ]
    },
    {
     "name": "stdout",
     "output_type": "stream",
     "text": [
      "っ"
     ]
    },
    {
     "name": "stdout",
     "output_type": "stream",
     "text": [
      "た"
     ]
    },
    {
     "name": "stdout",
     "output_type": "stream",
     "text": [
      "。"
     ]
    },
    {
     "name": "stdout",
     "output_type": "stream",
     "text": [
      "自"
     ]
    },
    {
     "name": "stdout",
     "output_type": "stream",
     "text": [
      "分"
     ]
    },
    {
     "name": "stdout",
     "output_type": "stream",
     "text": [
      "で"
     ]
    },
    {
     "name": "stdout",
     "output_type": "stream",
     "text": [
      "言"
     ]
    },
    {
     "name": "stdout",
     "output_type": "stream",
     "text": [
      "私"
     ]
    },
    {
     "name": "stdout",
     "output_type": "stream",
     "text": [
      "と"
     ]
    },
    {
     "name": "stdout",
     "output_type": "stream",
     "text": [
      "そ"
     ]
    },
    {
     "name": "stdout",
     "output_type": "stream",
     "text": [
      "う"
     ]
    },
    {
     "name": "stdout",
     "output_type": "stream",
     "text": [
      "だ"
     ]
    },
    {
     "name": "stdout",
     "output_type": "stream",
     "text": [
      "ろ"
     ]
    },
    {
     "name": "stdout",
     "output_type": "stream",
     "text": [
      "う"
     ]
    },
    {
     "name": "stdout",
     "output_type": "stream",
     "text": [
      "か"
     ]
    },
    {
     "name": "stdout",
     "output_type": "stream",
     "text": [
      "。"
     ]
    },
    {
     "name": "stdout",
     "output_type": "stream",
     "text": [
      "親"
     ]
    },
    {
     "name": "stdout",
     "output_type": "stream",
     "text": [
      "聞"
     ]
    },
    {
     "name": "stdout",
     "output_type": "stream",
     "text": [
      "こ"
     ]
    },
    {
     "name": "stdout",
     "output_type": "stream",
     "text": [
      "え"
     ]
    },
    {
     "name": "stdout",
     "output_type": "stream",
     "text": [
      "い"
     ]
    },
    {
     "name": "stdout",
     "output_type": "stream",
     "text": [
      "い"
     ]
    },
    {
     "name": "stdout",
     "output_type": "stream",
     "text": [
      "い"
     ]
    },
    {
     "name": "stdout",
     "output_type": "stream",
     "text": [
      "の"
     ]
    },
    {
     "name": "stdout",
     "output_type": "stream",
     "text": [
      "か"
     ]
    },
    {
     "name": "stdout",
     "output_type": "stream",
     "text": [
      "も"
     ]
    },
    {
     "name": "stdout",
     "output_type": "stream",
     "text": [
      "し"
     ]
    },
    {
     "name": "stdout",
     "output_type": "stream",
     "text": [
      "か"
     ]
    },
    {
     "name": "stdout",
     "output_type": "stream",
     "text": [
      "っ"
     ]
    },
    {
     "name": "stdout",
     "output_type": "stream",
     "text": [
      "た"
     ]
    },
    {
     "name": "stdout",
     "output_type": "stream",
     "text": [
      "。"
     ]
    },
    {
     "name": "stdout",
     "output_type": "stream",
     "text": [
      "「"
     ]
    },
    {
     "name": "stdout",
     "output_type": "stream",
     "text": [
      "う"
     ]
    },
    {
     "name": "stdout",
     "output_type": "stream",
     "text": [
      "ぎ"
     ]
    },
    {
     "name": "stdout",
     "output_type": "stream",
     "text": [
      "指"
     ]
    },
    {
     "name": "stdout",
     "output_type": "stream",
     "text": [
      "び"
     ]
    },
    {
     "name": "stdout",
     "output_type": "stream",
     "text": [
      "好"
     ]
    },
    {
     "name": "stdout",
     "output_type": "stream",
     "text": [
      "き"
     ]
    },
    {
     "name": "stdout",
     "output_type": "stream",
     "text": [
      "攻"
     ]
    },
    {
     "name": "stdout",
     "output_type": "stream",
     "text": [
      "さ"
     ]
    },
    {
     "name": "stdout",
     "output_type": "stream",
     "text": [
      "う"
     ]
    },
    {
     "name": "stdout",
     "output_type": "stream",
     "text": [
      "。"
     ]
    },
    {
     "name": "stdout",
     "output_type": "stream",
     "text": [
      "」"
     ]
    },
    {
     "name": "stdout",
     "output_type": "stream",
     "text": [
      "っ"
     ]
    },
    {
     "name": "stdout",
     "output_type": "stream",
     "text": [
      "か"
     ]
    },
    {
     "name": "stdout",
     "output_type": "stream",
     "text": [
      "ら"
     ]
    },
    {
     "name": "stdout",
     "output_type": "stream",
     "text": [
      "ぬ"
     ]
    },
    {
     "name": "stdout",
     "output_type": "stream",
     "text": [
      "俺"
     ]
    },
    {
     "name": "stdout",
     "output_type": "stream",
     "text": [
      "を"
     ]
    },
    {
     "name": "stdout",
     "output_type": "stream",
     "text": [
      "青"
     ]
    },
    {
     "name": "stdout",
     "output_type": "stream",
     "text": [
      "わ"
     ]
    },
    {
     "name": "stdout",
     "output_type": "stream",
     "text": [
      "違"
     ]
    },
    {
     "name": "stdout",
     "output_type": "stream",
     "text": [
      "っ"
     ]
    },
    {
     "name": "stdout",
     "output_type": "stream",
     "text": [
      "て"
     ]
    },
    {
     "name": "stdout",
     "output_type": "stream",
     "text": [
      "く"
     ]
    },
    {
     "name": "stdout",
     "output_type": "stream",
     "text": [
      "る"
     ]
    },
    {
     "name": "stdout",
     "output_type": "stream",
     "text": [
      "。"
     ]
    },
    {
     "name": "stdout",
     "output_type": "stream",
     "text": [
      "は"
     ]
    },
    {
     "name": "stdout",
     "output_type": "stream",
     "text": [
      "良"
     ]
    },
    {
     "name": "stdout",
     "output_type": "stream",
     "text": [
      "か"
     ]
    },
    {
     "name": "stdout",
     "output_type": "stream",
     "text": [
      "し"
     ]
    },
    {
     "name": "stdout",
     "output_type": "stream",
     "text": [
      "い"
     ]
    },
    {
     "name": "stdout",
     "output_type": "stream",
     "text": [
      "だ"
     ]
    },
    {
     "name": "stdout",
     "output_type": "stream",
     "text": [
      "ろ"
     ]
    },
    {
     "name": "stdout",
     "output_type": "stream",
     "text": [
      "う"
     ]
    },
    {
     "name": "stdout",
     "output_type": "stream",
     "text": [
      "だ"
     ]
    },
    {
     "name": "stdout",
     "output_type": "stream",
     "text": [
      "。"
     ]
    },
    {
     "name": "stdout",
     "output_type": "stream",
     "text": [
      "「"
     ]
    },
    {
     "name": "stdout",
     "output_type": "stream",
     "text": [
      "あ"
     ]
    },
    {
     "name": "stdout",
     "output_type": "stream",
     "text": [
      "ぁ"
     ]
    },
    {
     "name": "stdout",
     "output_type": "stream",
     "text": [
      "、"
     ]
    },
    {
     "name": "stdout",
     "output_type": "stream",
     "text": [
      "防"
     ]
    },
    {
     "name": "stdout",
     "output_type": "stream",
     "text": [
      "ょ"
     ]
    },
    {
     "name": "stdout",
     "output_type": "stream",
     "text": [
      "っ"
     ]
    },
    {
     "name": "stdout",
     "output_type": "stream",
     "text": [
      "嘘"
     ]
    },
    {
     "name": "stdout",
     "output_type": "stream",
     "text": [
      "お"
     ]
    },
    {
     "name": "stdout",
     "output_type": "stream",
     "text": [
      "少"
     ]
    },
    {
     "name": "stdout",
     "output_type": "stream",
     "text": [
      "し"
     ]
    },
    {
     "name": "stdout",
     "output_type": "stream",
     "text": [
      "い"
     ]
    },
    {
     "name": "stdout",
     "output_type": "stream",
     "text": [
      "る"
     ]
    },
    {
     "name": "stdout",
     "output_type": "stream",
     "text": [
      "!"
     ]
    },
    {
     "name": "stdout",
     "output_type": "stream",
     "text": [
      "欲"
     ]
    },
    {
     "name": "stdout",
     "output_type": "stream",
     "text": [
      "言"
     ]
    },
    {
     "name": "stdout",
     "output_type": "stream",
     "text": [
      "い"
     ]
    },
    {
     "name": "stdout",
     "output_type": "stream",
     "text": [
      "だ"
     ]
    },
    {
     "name": "stdout",
     "output_type": "stream",
     "text": [
      "と"
     ]
    },
    {
     "name": "stdout",
     "output_type": "stream",
     "text": [
      "思"
     ]
    },
    {
     "name": "stdout",
     "output_type": "stream",
     "text": [
      "わ"
     ]
    },
    {
     "name": "stdout",
     "output_type": "stream",
     "text": [
      "れ"
     ]
    },
    {
     "name": "stdout",
     "output_type": "stream",
     "text": [
      "た"
     ]
    },
    {
     "name": "stdout",
     "output_type": "stream",
     "text": [
      "の"
     ]
    },
    {
     "name": "stdout",
     "output_type": "stream",
     "text": [
      "?"
     ]
    },
    {
     "name": "stdout",
     "output_type": "stream",
     "text": [
      "自"
     ]
    },
    {
     "name": "stdout",
     "output_type": "stream",
     "text": [
      "分"
     ]
    },
    {
     "name": "stdout",
     "output_type": "stream",
     "text": [
      "が"
     ]
    },
    {
     "name": "stdout",
     "output_type": "stream",
     "text": [
      "シ"
     ]
    },
    {
     "name": "stdout",
     "output_type": "stream",
     "text": [
      "ー"
     ]
    },
    {
     "name": "stdout",
     "output_type": "stream",
     "text": [
      "ル"
     ]
    },
    {
     "name": "stdout",
     "output_type": "stream",
     "text": [
      "か"
     ]
    },
    {
     "name": "stdout",
     "output_type": "stream",
     "text": [
      "と"
     ]
    },
    {
     "name": "stdout",
     "output_type": "stream",
     "text": [
      "言"
     ]
    },
    {
     "name": "stdout",
     "output_type": "stream",
     "text": [
      "っ"
     ]
    },
    {
     "name": "stdout",
     "output_type": "stream",
     "text": [
      "て"
     ]
    },
    {
     "name": "stdout",
     "output_type": "stream",
     "text": [
      "情"
     ]
    },
    {
     "name": "stdout",
     "output_type": "stream",
     "text": [
      "け"
     ]
    },
    {
     "name": "stdout",
     "output_type": "stream",
     "text": [
      "で"
     ]
    },
    {
     "name": "stdout",
     "output_type": "stream",
     "text": [
      "お"
     ]
    },
    {
     "name": "stdout",
     "output_type": "stream",
     "text": [
      "乗"
     ]
    },
    {
     "name": "stdout",
     "output_type": "stream",
     "text": [
      "ら"
     ]
    },
    {
     "name": "stdout",
     "output_type": "stream",
     "text": [
      "な"
     ]
    },
    {
     "name": "stdout",
     "output_type": "stream",
     "text": [
      "い"
     ]
    },
    {
     "name": "stdout",
     "output_type": "stream",
     "text": [
      "瞳"
     ]
    },
    {
     "name": "stdout",
     "output_type": "stream",
     "text": [
      "、"
     ]
    },
    {
     "name": "stdout",
     "output_type": "stream",
     "text": [
      "方"
     ]
    },
    {
     "name": "stdout",
     "output_type": "stream",
     "text": [
      "だ"
     ]
    },
    {
     "name": "stdout",
     "output_type": "stream",
     "text": [
      "と"
     ]
    },
    {
     "name": "stdout",
     "output_type": "stream",
     "text": [
      "し"
     ]
    },
    {
     "name": "stdout",
     "output_type": "stream",
     "text": [
      "た"
     ]
    },
    {
     "name": "stdout",
     "output_type": "stream",
     "text": [
      "聞"
     ]
    },
    {
     "name": "stdout",
     "output_type": "stream",
     "text": [
      "こ"
     ]
    },
    {
     "name": "stdout",
     "output_type": "stream",
     "text": [
      "え"
     ]
    },
    {
     "name": "stdout",
     "output_type": "stream",
     "text": [
      "る"
     ]
    },
    {
     "name": "stdout",
     "output_type": "stream",
     "text": [
      "の"
     ]
    },
    {
     "name": "stdout",
     "output_type": "stream",
     "text": [
      "で"
     ]
    },
    {
     "name": "stdout",
     "output_type": "stream",
     "text": [
      "分"
     ]
    },
    {
     "name": "stdout",
     "output_type": "stream",
     "text": [
      "け"
     ]
    },
    {
     "name": "stdout",
     "output_type": "stream",
     "text": [
      "な"
     ]
    },
    {
     "name": "stdout",
     "output_type": "stream",
     "text": [
      "は"
     ]
    },
    {
     "name": "stdout",
     "output_type": "stream",
     "text": [
      "言"
     ]
    },
    {
     "name": "stdout",
     "output_type": "stream",
     "text": [
      "っ"
     ]
    },
    {
     "name": "stdout",
     "output_type": "stream",
     "text": [
      "た"
     ]
    },
    {
     "name": "stdout",
     "output_type": "stream",
     "text": [
      "。"
     ]
    },
    {
     "name": "stdout",
     "output_type": "stream",
     "text": [
      "さ"
     ]
    },
    {
     "name": "stdout",
     "output_type": "stream",
     "text": [
      "\n\n---- diversity: 1.2\n----- Generating with seed: \"風が発生し、その音が耳を駆け抜けて行きます。私はもう一度手を伸ばしました。今度は\"\n風が発生し、その音が耳を駆け抜けて行きます。私はもう一度手を伸ばしました。今度は"
     ]
    },
    {
     "name": "stdout",
     "output_type": "stream",
     "text": [
      "通"
     ]
    },
    {
     "name": "stdout",
     "output_type": "stream",
     "text": [
      "ろ"
     ]
    },
    {
     "name": "stdout",
     "output_type": "stream",
     "text": [
      "し"
     ]
    },
    {
     "name": "stdout",
     "output_type": "stream",
     "text": [
      "ん"
     ]
    },
    {
     "name": "stdout",
     "output_type": "stream",
     "text": [
      "初"
     ]
    },
    {
     "name": "stdout",
     "output_type": "stream",
     "text": [
      "?"
     ]
    },
    {
     "name": "stdout",
     "output_type": "stream",
     "text": [
      "と"
     ]
    },
    {
     "name": "stdout",
     "output_type": "stream",
     "text": [
      "う"
     ]
    },
    {
     "name": "stdout",
     "output_type": "stream",
     "text": [
      "と"
     ]
    },
    {
     "name": "stdout",
     "output_type": "stream",
     "text": [
      "は"
     ]
    },
    {
     "name": "stdout",
     "output_type": "stream",
     "text": [
      "全"
     ]
    },
    {
     "name": "stdout",
     "output_type": "stream",
     "text": [
      "暗"
     ]
    },
    {
     "name": "stdout",
     "output_type": "stream",
     "text": [
      "1"
     ]
    },
    {
     "name": "stdout",
     "output_type": "stream",
     "text": [
      "聞"
     ]
    },
    {
     "name": "stdout",
     "output_type": "stream",
     "text": [
      "く"
     ]
    },
    {
     "name": "stdout",
     "output_type": "stream",
     "text": [
      "見"
     ]
    },
    {
     "name": "stdout",
     "output_type": "stream",
     "text": [
      "す"
     ]
    },
    {
     "name": "stdout",
     "output_type": "stream",
     "text": [
      "る"
     ]
    },
    {
     "name": "stdout",
     "output_type": "stream",
     "text": [
      "。"
     ]
    },
    {
     "name": "stdout",
     "output_type": "stream",
     "text": [
      "昨"
     ]
    },
    {
     "name": "stdout",
     "output_type": "stream",
     "text": [
      "し"
     ]
    },
    {
     "name": "stdout",
     "output_type": "stream",
     "text": [
      "ば"
     ]
    },
    {
     "name": "stdout",
     "output_type": "stream",
     "text": [
      "手"
     ]
    },
    {
     "name": "stdout",
     "output_type": "stream",
     "text": [
      "変"
     ]
    },
    {
     "name": "stdout",
     "output_type": "stream",
     "text": [
      "チ"
     ]
    },
    {
     "name": "stdout",
     "output_type": "stream",
     "text": [
      "い"
     ]
    },
    {
     "name": "stdout",
     "output_type": "stream",
     "text": [
      "。"
     ]
    },
    {
     "name": "stdout",
     "output_type": "stream",
     "text": [
      "集"
     ]
    },
    {
     "name": "stdout",
     "output_type": "stream",
     "text": [
      "ば"
     ]
    },
    {
     "name": "stdout",
     "output_type": "stream",
     "text": [
      "、"
     ]
    },
    {
     "name": "stdout",
     "output_type": "stream",
     "text": [
      "ず"
     ]
    },
    {
     "name": "stdout",
     "output_type": "stream",
     "text": [
      "こ"
     ]
    },
    {
     "name": "stdout",
     "output_type": "stream",
     "text": [
      "通"
     ]
    },
    {
     "name": "stdout",
     "output_type": "stream",
     "text": [
      "な"
     ]
    },
    {
     "name": "stdout",
     "output_type": "stream",
     "text": [
      "お"
     ]
    },
    {
     "name": "stdout",
     "output_type": "stream",
     "text": [
      "は"
     ]
    },
    {
     "name": "stdout",
     "output_type": "stream",
     "text": [
      "見"
     ]
    },
    {
     "name": "stdout",
     "output_type": "stream",
     "text": [
      "て"
     ]
    },
    {
     "name": "stdout",
     "output_type": "stream",
     "text": [
      "の"
     ]
    },
    {
     "name": "stdout",
     "output_type": "stream",
     "text": [
      "人"
     ]
    },
    {
     "name": "stdout",
     "output_type": "stream",
     "text": [
      "の"
     ]
    },
    {
     "name": "stdout",
     "output_type": "stream",
     "text": [
      "人"
     ]
    },
    {
     "name": "stdout",
     "output_type": "stream",
     "text": [
      "の"
     ]
    },
    {
     "name": "stdout",
     "output_type": "stream",
     "text": [
      "無"
     ]
    },
    {
     "name": "stdout",
     "output_type": "stream",
     "text": [
      "度"
     ]
    },
    {
     "name": "stdout",
     "output_type": "stream",
     "text": [
      "色"
     ]
    },
    {
     "name": "stdout",
     "output_type": "stream",
     "text": [
      "ボ"
     ]
    },
    {
     "name": "stdout",
     "output_type": "stream",
     "text": [
      "女"
     ]
    },
    {
     "name": "stdout",
     "output_type": "stream",
     "text": [
      "だ"
     ]
    },
    {
     "name": "stdout",
     "output_type": "stream",
     "text": [
      "け"
     ]
    },
    {
     "name": "stdout",
     "output_type": "stream",
     "text": [
      "る"
     ]
    },
    {
     "name": "stdout",
     "output_type": "stream",
     "text": [
      "1"
     ]
    },
    {
     "name": "stdout",
     "output_type": "stream",
     "text": [
      "言"
     ]
    },
    {
     "name": "stdout",
     "output_type": "stream",
     "text": [
      "帰"
     ]
    },
    {
     "name": "stdout",
     "output_type": "stream",
     "text": [
      "唱"
     ]
    },
    {
     "name": "stdout",
     "output_type": "stream",
     "text": [
      "出"
     ]
    },
    {
     "name": "stdout",
     "output_type": "stream",
     "text": [
      "た"
     ]
    },
    {
     "name": "stdout",
     "output_type": "stream",
     "text": [
      "々"
     ]
    },
    {
     "name": "stdout",
     "output_type": "stream",
     "text": [
      "会"
     ]
    },
    {
     "name": "stdout",
     "output_type": "stream",
     "text": [
      "今"
     ]
    },
    {
     "name": "stdout",
     "output_type": "stream",
     "text": [
      "の"
     ]
    },
    {
     "name": "stdout",
     "output_type": "stream",
     "text": [
      "よ"
     ]
    },
    {
     "name": "stdout",
     "output_type": "stream",
     "text": [
      "う"
     ]
    },
    {
     "name": "stdout",
     "output_type": "stream",
     "text": [
      "に"
     ]
    },
    {
     "name": "stdout",
     "output_type": "stream",
     "text": [
      "闇"
     ]
    },
    {
     "name": "stdout",
     "output_type": "stream",
     "text": [
      "に"
     ]
    },
    {
     "name": "stdout",
     "output_type": "stream",
     "text": [
      "最"
     ]
    },
    {
     "name": "stdout",
     "output_type": "stream",
     "text": [
      "合"
     ]
    },
    {
     "name": "stdout",
     "output_type": "stream",
     "text": [
      "の"
     ]
    },
    {
     "name": "stdout",
     "output_type": "stream",
     "text": [
      "腕"
     ]
    },
    {
     "name": "stdout",
     "output_type": "stream",
     "text": [
      "に"
     ]
    },
    {
     "name": "stdout",
     "output_type": "stream",
     "text": [
      "な"
     ]
    },
    {
     "name": "stdout",
     "output_type": "stream",
     "text": [
      "く"
     ]
    },
    {
     "name": "stdout",
     "output_type": "stream",
     "text": [
      "、"
     ]
    },
    {
     "name": "stdout",
     "output_type": "stream",
     "text": [
      "そ"
     ]
    },
    {
     "name": "stdout",
     "output_type": "stream",
     "text": [
      "う"
     ]
    },
    {
     "name": "stdout",
     "output_type": "stream",
     "text": [
      "聞"
     ]
    },
    {
     "name": "stdout",
     "output_type": "stream",
     "text": [
      "こ"
     ]
    },
    {
     "name": "stdout",
     "output_type": "stream",
     "text": [
      "え"
     ]
    },
    {
     "name": "stdout",
     "output_type": "stream",
     "text": [
      "な"
     ]
    },
    {
     "name": "stdout",
     "output_type": "stream",
     "text": [
      "い"
     ]
    },
    {
     "name": "stdout",
     "output_type": "stream",
     "text": [
      "。"
     ]
    },
    {
     "name": "stdout",
     "output_type": "stream",
     "text": [
      "対"
     ]
    },
    {
     "name": "stdout",
     "output_type": "stream",
     "text": [
      "目"
     ]
    },
    {
     "name": "stdout",
     "output_type": "stream",
     "text": [
      "に"
     ]
    },
    {
     "name": "stdout",
     "output_type": "stream",
     "text": [
      "奏"
     ]
    },
    {
     "name": "stdout",
     "output_type": "stream",
     "text": [
      "多"
     ]
    },
    {
     "name": "stdout",
     "output_type": "stream",
     "text": [
      "を"
     ]
    },
    {
     "name": "stdout",
     "output_type": "stream",
     "text": [
      "そ"
     ]
    },
    {
     "name": "stdout",
     "output_type": "stream",
     "text": [
      "っ"
     ]
    },
    {
     "name": "stdout",
     "output_type": "stream",
     "text": [
      "て"
     ]
    },
    {
     "name": "stdout",
     "output_type": "stream",
     "text": [
      "も"
     ]
    },
    {
     "name": "stdout",
     "output_type": "stream",
     "text": [
      "ら"
     ]
    },
    {
     "name": "stdout",
     "output_type": "stream",
     "text": [
      "で"
     ]
    },
    {
     "name": "stdout",
     "output_type": "stream",
     "text": [
      "静"
     ]
    },
    {
     "name": "stdout",
     "output_type": "stream",
     "text": [
      "に"
     ]
    },
    {
     "name": "stdout",
     "output_type": "stream",
     "text": [
      "ま"
     ]
    },
    {
     "name": "stdout",
     "output_type": "stream",
     "text": [
      "た"
     ]
    },
    {
     "name": "stdout",
     "output_type": "stream",
     "text": [
      "ら"
     ]
    },
    {
     "name": "stdout",
     "output_type": "stream",
     "text": [
      "ね"
     ]
    },
    {
     "name": "stdout",
     "output_type": "stream",
     "text": [
      "番"
     ]
    },
    {
     "name": "stdout",
     "output_type": "stream",
     "text": [
      "流"
     ]
    },
    {
     "name": "stdout",
     "output_type": "stream",
     "text": [
      "ら"
     ]
    },
    {
     "name": "stdout",
     "output_type": "stream",
     "text": [
      "ず"
     ]
    },
    {
     "name": "stdout",
     "output_type": "stream",
     "text": [
      "!"
     ]
    },
    {
     "name": "stdout",
     "output_type": "stream",
     "text": [
      "!"
     ]
    },
    {
     "name": "stdout",
     "output_type": "stream",
     "text": [
      "こ"
     ]
    },
    {
     "name": "stdout",
     "output_type": "stream",
     "text": [
      "の"
     ]
    },
    {
     "name": "stdout",
     "output_type": "stream",
     "text": [
      "あ"
     ]
    },
    {
     "name": "stdout",
     "output_type": "stream",
     "text": [
      "り"
     ]
    },
    {
     "name": "stdout",
     "output_type": "stream",
     "text": [
      "合"
     ]
    },
    {
     "name": "stdout",
     "output_type": "stream",
     "text": [
      "ち"
     ]
    },
    {
     "name": "stdout",
     "output_type": "stream",
     "text": [
      "倒"
     ]
    },
    {
     "name": "stdout",
     "output_type": "stream",
     "text": [
      "!"
     ]
    },
    {
     "name": "stdout",
     "output_type": "stream",
     "text": [
      "!"
     ]
    },
    {
     "name": "stdout",
     "output_type": "stream",
     "text": [
      "」"
     ]
    },
    {
     "name": "stdout",
     "output_type": "stream",
     "text": [
      "魔"
     ]
    },
    {
     "name": "stdout",
     "output_type": "stream",
     "text": [
      "物"
     ]
    },
    {
     "name": "stdout",
     "output_type": "stream",
     "text": [
      "が"
     ]
    },
    {
     "name": "stdout",
     "output_type": "stream",
     "text": [
      "約"
     ]
    },
    {
     "name": "stdout",
     "output_type": "stream",
     "text": [
      "い"
     ]
    },
    {
     "name": "stdout",
     "output_type": "stream",
     "text": [
      "わ"
     ]
    },
    {
     "name": "stdout",
     "output_type": "stream",
     "text": [
      "り"
     ]
    },
    {
     "name": "stdout",
     "output_type": "stream",
     "text": [
      "し"
     ]
    },
    {
     "name": "stdout",
     "output_type": "stream",
     "text": [
      "い"
     ]
    },
    {
     "name": "stdout",
     "output_type": "stream",
     "text": [
      "事"
     ]
    },
    {
     "name": "stdout",
     "output_type": "stream",
     "text": [
      "を"
     ]
    },
    {
     "name": "stdout",
     "output_type": "stream",
     "text": [
      "見"
     ]
    },
    {
     "name": "stdout",
     "output_type": "stream",
     "text": [
      "て"
     ]
    },
    {
     "name": "stdout",
     "output_type": "stream",
     "text": [
      "お"
     ]
    },
    {
     "name": "stdout",
     "output_type": "stream",
     "text": [
      "ま"
     ]
    },
    {
     "name": "stdout",
     "output_type": "stream",
     "text": [
      "す"
     ]
    },
    {
     "name": "stdout",
     "output_type": "stream",
     "text": [
      "。"
     ]
    },
    {
     "name": "stdout",
     "output_type": "stream",
     "text": [
      "』"
     ]
    },
    {
     "name": "stdout",
     "output_type": "stream",
     "text": [
      "っ"
     ]
    },
    {
     "name": "stdout",
     "output_type": "stream",
     "text": [
      "無"
     ]
    },
    {
     "name": "stdout",
     "output_type": "stream",
     "text": [
      "さ"
     ]
    },
    {
     "name": "stdout",
     "output_type": "stream",
     "text": [
      "か"
     ]
    },
    {
     "name": "stdout",
     "output_type": "stream",
     "text": [
      "」"
     ]
    },
    {
     "name": "stdout",
     "output_type": "stream",
     "text": [
      "む"
     ]
    },
    {
     "name": "stdout",
     "output_type": "stream",
     "text": [
      "散"
     ]
    },
    {
     "name": "stdout",
     "output_type": "stream",
     "text": [
      "目"
     ]
    },
    {
     "name": "stdout",
     "output_type": "stream",
     "text": [
      "を"
     ]
    },
    {
     "name": "stdout",
     "output_type": "stream",
     "text": [
      "俺"
     ]
    },
    {
     "name": "stdout",
     "output_type": "stream",
     "text": [
      "を"
     ]
    },
    {
     "name": "stdout",
     "output_type": "stream",
     "text": [
      "草"
     ]
    },
    {
     "name": "stdout",
     "output_type": "stream",
     "text": [
      "一"
     ]
    },
    {
     "name": "stdout",
     "output_type": "stream",
     "text": [
      "ぎ"
     ]
    },
    {
     "name": "stdout",
     "output_type": "stream",
     "text": [
      "で"
     ]
    },
    {
     "name": "stdout",
     "output_type": "stream",
     "text": [
      "ッ"
     ]
    },
    {
     "name": "stdout",
     "output_type": "stream",
     "text": [
      "近"
     ]
    },
    {
     "name": "stdout",
     "output_type": "stream",
     "text": [
      "く"
     ]
    },
    {
     "name": "stdout",
     "output_type": "stream",
     "text": [
      "。"
     ]
    },
    {
     "name": "stdout",
     "output_type": "stream",
     "text": [
      "先"
     ]
    },
    {
     "name": "stdout",
     "output_type": "stream",
     "text": [
      "輩"
     ]
    },
    {
     "name": "stdout",
     "output_type": "stream",
     "text": [
      "の"
     ]
    },
    {
     "name": "stdout",
     "output_type": "stream",
     "text": [
      "を"
     ]
    },
    {
     "name": "stdout",
     "output_type": "stream",
     "text": [
      "惑"
     ]
    },
    {
     "name": "stdout",
     "output_type": "stream",
     "text": [
      "い"
     ]
    },
    {
     "name": "stdout",
     "output_type": "stream",
     "text": [
      "た"
     ]
    },
    {
     "name": "stdout",
     "output_type": "stream",
     "text": [
      "体"
     ]
    },
    {
     "name": "stdout",
     "output_type": "stream",
     "text": [
      "伝"
     ]
    },
    {
     "name": "stdout",
     "output_type": "stream",
     "text": [
      "示"
     ]
    },
    {
     "name": "stdout",
     "output_type": "stream",
     "text": [
      "し"
     ]
    },
    {
     "name": "stdout",
     "output_type": "stream",
     "text": [
      "た"
     ]
    },
    {
     "name": "stdout",
     "output_type": "stream",
     "text": [
      "無"
     ]
    },
    {
     "name": "stdout",
     "output_type": "stream",
     "text": [
      "や"
     ]
    },
    {
     "name": "stdout",
     "output_type": "stream",
     "text": [
      "、"
     ]
    },
    {
     "name": "stdout",
     "output_type": "stream",
     "text": [
      "木"
     ]
    },
    {
     "name": "stdout",
     "output_type": "stream",
     "text": [
      "目"
     ]
    },
    {
     "name": "stdout",
     "output_type": "stream",
     "text": [
      "を"
     ]
    },
    {
     "name": "stdout",
     "output_type": "stream",
     "text": [
      "覚"
     ]
    },
    {
     "name": "stdout",
     "output_type": "stream",
     "text": [
      "る"
     ]
    },
    {
     "name": "stdout",
     "output_type": "stream",
     "text": [
      "か"
     ]
    },
    {
     "name": "stdout",
     "output_type": "stream",
     "text": [
      "ら"
     ]
    },
    {
     "name": "stdout",
     "output_type": "stream",
     "text": [
      "e"
     ]
    },
    {
     "name": "stdout",
     "output_type": "stream",
     "text": [
      "行"
     ]
    },
    {
     "name": "stdout",
     "output_type": "stream",
     "text": [
      "む"
     ]
    },
    {
     "name": "stdout",
     "output_type": "stream",
     "text": [
      "イ"
     ]
    },
    {
     "name": "stdout",
     "output_type": "stream",
     "text": [
      "フ"
     ]
    },
    {
     "name": "stdout",
     "output_type": "stream",
     "text": [
      "と"
     ]
    },
    {
     "name": "stdout",
     "output_type": "stream",
     "text": [
      "見"
     ]
    },
    {
     "name": "stdout",
     "output_type": "stream",
     "text": [
      "出"
     ]
    },
    {
     "name": "stdout",
     "output_type": "stream",
     "text": [
      "ら"
     ]
    },
    {
     "name": "stdout",
     "output_type": "stream",
     "text": [
      "く"
     ]
    },
    {
     "name": "stdout",
     "output_type": "stream",
     "text": [
      "る"
     ]
    },
    {
     "name": "stdout",
     "output_type": "stream",
     "text": [
      "「"
     ]
    },
    {
     "name": "stdout",
     "output_type": "stream",
     "text": [
      "ル"
     ]
    },
    {
     "name": "stdout",
     "output_type": "stream",
     "text": [
      "ク"
     ]
    },
    {
     "name": "stdout",
     "output_type": "stream",
     "text": [
      "レ"
     ]
    },
    {
     "name": "stdout",
     "output_type": "stream",
     "text": [
      "。"
     ]
    },
    {
     "name": "stdout",
     "output_type": "stream",
     "text": [
      "."
     ]
    },
    {
     "name": "stdout",
     "output_type": "stream",
     "text": [
      "."
     ]
    },
    {
     "name": "stdout",
     "output_type": "stream",
     "text": [
      "."
     ]
    },
    {
     "name": "stdout",
     "output_type": "stream",
     "text": [
      "."
     ]
    },
    {
     "name": "stdout",
     "output_type": "stream",
     "text": [
      "人"
     ]
    },
    {
     "name": "stdout",
     "output_type": "stream",
     "text": [
      "。"
     ]
    },
    {
     "name": "stdout",
     "output_type": "stream",
     "text": [
      "」"
     ]
    },
    {
     "name": "stdout",
     "output_type": "stream",
     "text": [
      "「"
     ]
    },
    {
     "name": "stdout",
     "output_type": "stream",
     "text": [
      "そ"
     ]
    },
    {
     "name": "stdout",
     "output_type": "stream",
     "text": [
      "\n\n---- diversity: 1.5\n----- Generating with seed: \"風が発生し、その音が耳を駆け抜けて行きます。私はもう一度手を伸ばしました。今度は\"\n風が発生し、その音が耳を駆け抜けて行きます。私はもう一度手を伸ばしました。今度は"
     ]
    },
    {
     "name": "stdout",
     "output_type": "stream",
     "text": [
      "、"
     ]
    },
    {
     "name": "stdout",
     "output_type": "stream",
     "text": [
      "貴"
     ]
    },
    {
     "name": "stdout",
     "output_type": "stream",
     "text": [
      "歩"
     ]
    },
    {
     "name": "stdout",
     "output_type": "stream",
     "text": [
      "隷"
     ]
    },
    {
     "name": "stdout",
     "output_type": "stream",
     "text": [
      "て"
     ]
    },
    {
     "name": "stdout",
     "output_type": "stream",
     "text": [
      "し"
     ]
    },
    {
     "name": "stdout",
     "output_type": "stream",
     "text": [
      "た"
     ]
    },
    {
     "name": "stdout",
     "output_type": "stream",
     "text": [
      "声"
     ]
    },
    {
     "name": "stdout",
     "output_type": "stream",
     "text": [
      "が"
     ]
    },
    {
     "name": "stdout",
     "output_type": "stream",
     "text": [
      "見"
     ]
    },
    {
     "name": "stdout",
     "output_type": "stream",
     "text": [
      "て"
     ]
    },
    {
     "name": "stdout",
     "output_type": "stream",
     "text": [
      "る"
     ]
    },
    {
     "name": "stdout",
     "output_type": "stream",
     "text": [
      "に"
     ]
    },
    {
     "name": "stdout",
     "output_type": "stream",
     "text": [
      "2"
     ]
    },
    {
     "name": "stdout",
     "output_type": "stream",
     "text": [
      "気"
     ]
    },
    {
     "name": "stdout",
     "output_type": "stream",
     "text": [
      "。"
     ]
    },
    {
     "name": "stdout",
     "output_type": "stream",
     "text": [
      "せ"
     ]
    },
    {
     "name": "stdout",
     "output_type": "stream",
     "text": [
      "な"
     ]
    },
    {
     "name": "stdout",
     "output_type": "stream",
     "text": [
      "い"
     ]
    },
    {
     "name": "stdout",
     "output_type": "stream",
     "text": [
      "。"
     ]
    },
    {
     "name": "stdout",
     "output_type": "stream",
     "text": [
      "成"
     ]
    },
    {
     "name": "stdout",
     "output_type": "stream",
     "text": [
      "か"
     ]
    },
    {
     "name": "stdout",
     "output_type": "stream",
     "text": [
      "へ"
     ]
    },
    {
     "name": "stdout",
     "output_type": "stream",
     "text": [
      "頃"
     ]
    },
    {
     "name": "stdout",
     "output_type": "stream",
     "text": [
      "チ"
     ]
    },
    {
     "name": "stdout",
     "output_type": "stream",
     "text": [
      "こ"
     ]
    },
    {
     "name": "stdout",
     "output_type": "stream",
     "text": [
      "と"
     ]
    },
    {
     "name": "stdout",
     "output_type": "stream",
     "text": [
      "も"
     ]
    },
    {
     "name": "stdout",
     "output_type": "stream",
     "text": [
      "び"
     ]
    },
    {
     "name": "stdout",
     "output_type": "stream",
     "text": [
      "の"
     ]
    },
    {
     "name": "stdout",
     "output_type": "stream",
     "text": [
      "な"
     ]
    },
    {
     "name": "stdout",
     "output_type": "stream",
     "text": [
      "い"
     ]
    },
    {
     "name": "stdout",
     "output_type": "stream",
     "text": [
      "か"
     ]
    },
    {
     "name": "stdout",
     "output_type": "stream",
     "text": [
      "も"
     ]
    },
    {
     "name": "stdout",
     "output_type": "stream",
     "text": [
      "備"
     ]
    },
    {
     "name": "stdout",
     "output_type": "stream",
     "text": [
      "し"
     ]
    },
    {
     "name": "stdout",
     "output_type": "stream",
     "text": [
      "し"
     ]
    },
    {
     "name": "stdout",
     "output_type": "stream",
     "text": [
      "白"
     ]
    },
    {
     "name": "stdout",
     "output_type": "stream",
     "text": [
      "放"
     ]
    },
    {
     "name": "stdout",
     "output_type": "stream",
     "text": [
      "さ"
     ]
    },
    {
     "name": "stdout",
     "output_type": "stream",
     "text": [
      "れ"
     ]
    },
    {
     "name": "stdout",
     "output_type": "stream",
     "text": [
      "る"
     ]
    },
    {
     "name": "stdout",
     "output_type": "stream",
     "text": [
      "受"
     ]
    },
    {
     "name": "stdout",
     "output_type": "stream",
     "text": [
      "現"
     ]
    },
    {
     "name": "stdout",
     "output_type": "stream",
     "text": [
      "少"
     ]
    },
    {
     "name": "stdout",
     "output_type": "stream",
     "text": [
      "物"
     ]
    },
    {
     "name": "stdout",
     "output_type": "stream",
     "text": [
      "と"
     ]
    },
    {
     "name": "stdout",
     "output_type": "stream",
     "text": [
      "("
     ]
    },
    {
     "name": "stdout",
     "output_type": "stream",
     "text": [
      "あ"
     ]
    },
    {
     "name": "stdout",
     "output_type": "stream",
     "text": [
      "ん"
     ]
    },
    {
     "name": "stdout",
     "output_type": "stream",
     "text": [
      "だ"
     ]
    },
    {
     "name": "stdout",
     "output_type": "stream",
     "text": [
      "2"
     ]
    },
    {
     "name": "stdout",
     "output_type": "stream",
     "text": [
      "俺"
     ]
    },
    {
     "name": "stdout",
     "output_type": "stream",
     "text": [
      "達"
     ]
    },
    {
     "name": "stdout",
     "output_type": "stream",
     "text": [
      "腹"
     ]
    },
    {
     "name": "stdout",
     "output_type": "stream",
     "text": [
      "作"
     ]
    },
    {
     "name": "stdout",
     "output_type": "stream",
     "text": [
      "顔"
     ]
    },
    {
     "name": "stdout",
     "output_type": "stream",
     "text": [
      "相"
     ]
    },
    {
     "name": "stdout",
     "output_type": "stream",
     "text": [
      "き"
     ]
    },
    {
     "name": "stdout",
     "output_type": "stream",
     "text": [
      "に"
     ]
    },
    {
     "name": "stdout",
     "output_type": "stream",
     "text": [
      "う"
     ]
    },
    {
     "name": "stdout",
     "output_type": "stream",
     "text": [
      "ん"
     ]
    },
    {
     "name": "stdout",
     "output_type": "stream",
     "text": [
      "で"
     ]
    },
    {
     "name": "stdout",
     "output_type": "stream",
     "text": [
      "す"
     ]
    },
    {
     "name": "stdout",
     "output_type": "stream",
     "text": [
      "よ"
     ]
    },
    {
     "name": "stdout",
     "output_type": "stream",
     "text": [
      "ぐ"
     ]
    },
    {
     "name": "stdout",
     "output_type": "stream",
     "text": [
      "何"
     ]
    },
    {
     "name": "stdout",
     "output_type": "stream",
     "text": [
      "抑"
     ]
    },
    {
     "name": "stdout",
     "output_type": "stream",
     "text": [
      "が"
     ]
    },
    {
     "name": "stdout",
     "output_type": "stream",
     "text": [
      "休"
     ]
    },
    {
     "name": "stdout",
     "output_type": "stream",
     "text": [
      "け"
     ]
    },
    {
     "name": "stdout",
     "output_type": "stream",
     "text": [
      "た"
     ]
    },
    {
     "name": "stdout",
     "output_type": "stream",
     "text": [
      "。"
     ]
    },
    {
     "name": "stdout",
     "output_type": "stream",
     "text": [
      "ブ"
     ]
    },
    {
     "name": "stdout",
     "output_type": "stream",
     "text": [
      "だ"
     ]
    },
    {
     "name": "stdout",
     "output_type": "stream",
     "text": [
      "フ"
     ]
    },
    {
     "name": "stdout",
     "output_type": "stream",
     "text": [
      "ざ"
     ]
    },
    {
     "name": "stdout",
     "output_type": "stream",
     "text": [
      "者"
     ]
    },
    {
     "name": "stdout",
     "output_type": "stream",
     "text": [
      "て"
     ]
    },
    {
     "name": "stdout",
     "output_type": "stream",
     "text": [
      "く"
     ]
    },
    {
     "name": "stdout",
     "output_type": "stream",
     "text": [
      "ら"
     ]
    },
    {
     "name": "stdout",
     "output_type": "stream",
     "text": [
      "問"
     ]
    },
    {
     "name": "stdout",
     "output_type": "stream",
     "text": [
      "他"
     ]
    },
    {
     "name": "stdout",
     "output_type": "stream",
     "text": [
      "瞳"
     ]
    },
    {
     "name": "stdout",
     "output_type": "stream",
     "text": [
      "な"
     ]
    },
    {
     "name": "stdout",
     "output_type": "stream",
     "text": [
      "声"
     ]
    },
    {
     "name": "stdout",
     "output_type": "stream",
     "text": [
      "ら"
     ]
    },
    {
     "name": "stdout",
     "output_type": "stream",
     "text": [
      "さ"
     ]
    },
    {
     "name": "stdout",
     "output_type": "stream",
     "text": [
      "ろ"
     ]
    },
    {
     "name": "stdout",
     "output_type": "stream",
     "text": [
      "に"
     ]
    },
    {
     "name": "stdout",
     "output_type": "stream",
     "text": [
      "和"
     ]
    },
    {
     "name": "stdout",
     "output_type": "stream",
     "text": [
      "服"
     ]
    },
    {
     "name": "stdout",
     "output_type": "stream",
     "text": [
      "。"
     ]
    },
    {
     "name": "stdout",
     "output_type": "stream",
     "text": [
      "・"
     ]
    },
    {
     "name": "stdout",
     "output_type": "stream",
     "text": [
      "・"
     ]
    },
    {
     "name": "stdout",
     "output_type": "stream",
     "text": [
      "・"
     ]
    },
    {
     "name": "stdout",
     "output_type": "stream",
     "text": [
      "」"
     ]
    },
    {
     "name": "stdout",
     "output_type": "stream",
     "text": [
      "き"
     ]
    },
    {
     "name": "stdout",
     "output_type": "stream",
     "text": [
      "に"
     ]
    },
    {
     "name": "stdout",
     "output_type": "stream",
     "text": [
      "先"
     ]
    },
    {
     "name": "stdout",
     "output_type": "stream",
     "text": [
      "っ"
     ]
    },
    {
     "name": "stdout",
     "output_type": "stream",
     "text": [
      "と"
     ]
    },
    {
     "name": "stdout",
     "output_type": "stream",
     "text": [
      "女"
     ]
    },
    {
     "name": "stdout",
     "output_type": "stream",
     "text": [
      "と"
     ]
    },
    {
     "name": "stdout",
     "output_type": "stream",
     "text": [
      "と"
     ]
    },
    {
     "name": "stdout",
     "output_type": "stream",
     "text": [
      "し"
     ]
    },
    {
     "name": "stdout",
     "output_type": "stream",
     "text": [
      "重"
     ]
    },
    {
     "name": "stdout",
     "output_type": "stream",
     "text": [
      "."
     ]
    },
    {
     "name": "stdout",
     "output_type": "stream",
     "text": [
      "."
     ]
    },
    {
     "name": "stdout",
     "output_type": "stream",
     "text": [
      "."
     ]
    },
    {
     "name": "stdout",
     "output_type": "stream",
     "text": [
      "を"
     ]
    },
    {
     "name": "stdout",
     "output_type": "stream",
     "text": [
      "と"
     ]
    },
    {
     "name": "stdout",
     "output_type": "stream",
     "text": [
      "ど"
     ]
    },
    {
     "name": "stdout",
     "output_type": "stream",
     "text": [
      "そ"
     ]
    },
    {
     "name": "stdout",
     "output_type": "stream",
     "text": [
      "し"
     ]
    },
    {
     "name": "stdout",
     "output_type": "stream",
     "text": [
      "声"
     ]
    },
    {
     "name": "stdout",
     "output_type": "stream",
     "text": [
      "の"
     ]
    },
    {
     "name": "stdout",
     "output_type": "stream",
     "text": [
      "息"
     ]
    },
    {
     "name": "stdout",
     "output_type": "stream",
     "text": [
      "つ"
     ]
    },
    {
     "name": "stdout",
     "output_type": "stream",
     "text": [
      "ョ"
     ]
    },
    {
     "name": "stdout",
     "output_type": "stream",
     "text": [
      "家"
     ]
    },
    {
     "name": "stdout",
     "output_type": "stream",
     "text": [
      "を"
     ]
    },
    {
     "name": "stdout",
     "output_type": "stream",
     "text": [
      "あ"
     ]
    },
    {
     "name": "stdout",
     "output_type": "stream",
     "text": [
      "る"
     ]
    },
    {
     "name": "stdout",
     "output_type": "stream",
     "text": [
      "う"
     ]
    },
    {
     "name": "stdout",
     "output_type": "stream",
     "text": [
      "し"
     ]
    },
    {
     "name": "stdout",
     "output_type": "stream",
     "text": [
      "て"
     ]
    },
    {
     "name": "stdout",
     "output_type": "stream",
     "text": [
      "酷"
     ]
    },
    {
     "name": "stdout",
     "output_type": "stream",
     "text": [
      "く"
     ]
    },
    {
     "name": "stdout",
     "output_type": "stream",
     "text": [
      "』"
     ]
    },
    {
     "name": "stdout",
     "output_type": "stream",
     "text": [
      "と"
     ]
    },
    {
     "name": "stdout",
     "output_type": "stream",
     "text": [
      "テ"
     ]
    },
    {
     "name": "stdout",
     "output_type": "stream",
     "text": [
      "ィ"
     ]
    },
    {
     "name": "stdout",
     "output_type": "stream",
     "text": [
      "ご"
     ]
    },
    {
     "name": "stdout",
     "output_type": "stream",
     "text": [
      "「"
     ]
    },
    {
     "name": "stdout",
     "output_type": "stream",
     "text": [
      "ホ"
     ]
    },
    {
     "name": "stdout",
     "output_type": "stream",
     "text": [
      "デ"
     ]
    },
    {
     "name": "stdout",
     "output_type": "stream",
     "text": [
      "っ"
     ]
    },
    {
     "name": "stdout",
     "output_type": "stream",
     "text": [
      "た"
     ]
    },
    {
     "name": "stdout",
     "output_type": "stream",
     "text": [
      "り"
     ]
    },
    {
     "name": "stdout",
     "output_type": "stream",
     "text": [
      "僕"
     ]
    },
    {
     "name": "stdout",
     "output_type": "stream",
     "text": [
      "歩"
     ]
    },
    {
     "name": "stdout",
     "output_type": "stream",
     "text": [
      "口"
     ]
    },
    {
     "name": "stdout",
     "output_type": "stream",
     "text": [
      "を"
     ]
    },
    {
     "name": "stdout",
     "output_type": "stream",
     "text": [
      "嬢"
     ]
    },
    {
     "name": "stdout",
     "output_type": "stream",
     "text": [
      "達"
     ]
    },
    {
     "name": "stdout",
     "output_type": "stream",
     "text": [
      "に"
     ]
    },
    {
     "name": "stdout",
     "output_type": "stream",
     "text": [
      "ア"
     ]
    },
    {
     "name": "stdout",
     "output_type": "stream",
     "text": [
      "場"
     ]
    },
    {
     "name": "stdout",
     "output_type": "stream",
     "text": [
      "を"
     ]
    },
    {
     "name": "stdout",
     "output_type": "stream",
     "text": [
      "し"
     ]
    },
    {
     "name": "stdout",
     "output_type": "stream",
     "text": [
      "お"
     ]
    },
    {
     "name": "stdout",
     "output_type": "stream",
     "text": [
      "少"
     ]
    },
    {
     "name": "stdout",
     "output_type": "stream",
     "text": [
      "し"
     ]
    },
    {
     "name": "stdout",
     "output_type": "stream",
     "text": [
      "本"
     ]
    },
    {
     "name": "stdout",
     "output_type": "stream",
     "text": [
      "中"
     ]
    },
    {
     "name": "stdout",
     "output_type": "stream",
     "text": [
      "す"
     ]
    },
    {
     "name": "stdout",
     "output_type": "stream",
     "text": [
      "売"
     ]
    },
    {
     "name": "stdout",
     "output_type": "stream",
     "text": [
      "線"
     ]
    },
    {
     "name": "stdout",
     "output_type": "stream",
     "text": [
      "受"
     ]
    },
    {
     "name": "stdout",
     "output_type": "stream",
     "text": [
      "先"
     ]
    },
    {
     "name": "stdout",
     "output_type": "stream",
     "text": [
      "ぎ"
     ]
    },
    {
     "name": "stdout",
     "output_type": "stream",
     "text": [
      "の"
     ]
    },
    {
     "name": "stdout",
     "output_type": "stream",
     "text": [
      "文"
     ]
    },
    {
     "name": "stdout",
     "output_type": "stream",
     "text": [
      "字"
     ]
    },
    {
     "name": "stdout",
     "output_type": "stream",
     "text": [
      "と"
     ]
    },
    {
     "name": "stdout",
     "output_type": "stream",
     "text": [
      "所"
     ]
    },
    {
     "name": "stdout",
     "output_type": "stream",
     "text": [
      "へ"
     ]
    },
    {
     "name": "stdout",
     "output_type": "stream",
     "text": [
      "あ"
     ]
    },
    {
     "name": "stdout",
     "output_type": "stream",
     "text": [
      "る"
     ]
    },
    {
     "name": "stdout",
     "output_type": "stream",
     "text": [
      "。"
     ]
    },
    {
     "name": "stdout",
     "output_type": "stream",
     "text": [
      "択"
     ]
    },
    {
     "name": "stdout",
     "output_type": "stream",
     "text": [
      "ん"
     ]
    },
    {
     "name": "stdout",
     "output_type": "stream",
     "text": [
      "か"
     ]
    },
    {
     "name": "stdout",
     "output_type": "stream",
     "text": [
      "国"
     ]
    },
    {
     "name": "stdout",
     "output_type": "stream",
     "text": [
      "重"
     ]
    },
    {
     "name": "stdout",
     "output_type": "stream",
     "text": [
      "き"
     ]
    },
    {
     "name": "stdout",
     "output_type": "stream",
     "text": [
      "、"
     ]
    },
    {
     "name": "stdout",
     "output_type": "stream",
     "text": [
      "行"
     ]
    },
    {
     "name": "stdout",
     "output_type": "stream",
     "text": [
      "ベ"
     ]
    },
    {
     "name": "stdout",
     "output_type": "stream",
     "text": [
      "ベ"
     ]
    },
    {
     "name": "stdout",
     "output_type": "stream",
     "text": [
      "止"
     ]
    },
    {
     "name": "stdout",
     "output_type": "stream",
     "text": [
      "と"
     ]
    },
    {
     "name": "stdout",
     "output_type": "stream",
     "text": [
      "真"
     ]
    },
    {
     "name": "stdout",
     "output_type": "stream",
     "text": [
      "思"
     ]
    },
    {
     "name": "stdout",
     "output_type": "stream",
     "text": [
      "い"
     ]
    },
    {
     "name": "stdout",
     "output_type": "stream",
     "text": [
      "私"
     ]
    },
    {
     "name": "stdout",
     "output_type": "stream",
     "text": [
      "を"
     ]
    },
    {
     "name": "stdout",
     "output_type": "stream",
     "text": [
      "バ"
     ]
    },
    {
     "name": "stdout",
     "output_type": "stream",
     "text": [
      "ッ"
     ]
    },
    {
     "name": "stdout",
     "output_type": "stream",
     "text": [
      "ク"
     ]
    },
    {
     "name": "stdout",
     "output_type": "stream",
     "text": [
      "に"
     ]
    },
    {
     "name": "stdout",
     "output_type": "stream",
     "text": [
      "音"
     ]
    },
    {
     "name": "stdout",
     "output_type": "stream",
     "text": [
      "が"
     ]
    },
    {
     "name": "stdout",
     "output_type": "stream",
     "text": [
      "す"
     ]
    },
    {
     "name": "stdout",
     "output_type": "stream",
     "text": [
      "る"
     ]
    },
    {
     "name": "stdout",
     "output_type": "stream",
     "text": [
      "私"
     ]
    },
    {
     "name": "stdout",
     "output_type": "stream",
     "text": [
      "。"
     ]
    },
    {
     "name": "stdout",
     "output_type": "stream",
     "text": [
      "大"
     ]
    },
    {
     "name": "stdout",
     "output_type": "stream",
     "text": [
      "き"
     ]
    },
    {
     "name": "stdout",
     "output_type": "stream",
     "text": [
      "\n"
     ]
    }
   ],
   "source": [
    "start_index = random.randint(0, len(text) - maxlen - 1)\n",
    "print(start_index)\n",
    "\n",
    "for diversity in [1.0, 1.2, 1.5]:\n",
    "    print()\n",
    "    print('---- diversity:', diversity)\n",
    "    \n",
    "    generated = ''\n",
    "    sentence = text[start_index: start_index + maxlen]\n",
    "    generated += sentence\n",
    "    print('----- Generating with seed: \"' + sentence + '\"')\n",
    "    sys.stdout.write(generated)\n",
    "    \n",
    "    for i in range(200):\n",
    "        x_pred = np.zeros((1, maxlen, len(chars)))\n",
    "        for t, char in enumerate(sentence):\n",
    "            x_pred[0, t, char_indices[char]] = 1.\n",
    "            \n",
    "        preds = model.predict(x_pred, verbose=0)[0]\n",
    "        next_index = sample(preds, diversity)\n",
    "        next_char = indices_char[next_index]\n",
    "        \n",
    "        generated += next_char\n",
    "        sentence = sentence[1:] + next_char\n",
    "        \n",
    "        sys.stdout.write(next_char)\n",
    "        sys.stdout.flush()\n",
    "    print()\n"
   ]
  },
  {
   "cell_type": "code",
   "execution_count": 97,
   "metadata": {},
   "outputs": [
    {
     "name": "stdout",
     "output_type": "stream",
     "text": [
      "の"
     ]
    },
    {
     "name": "stdout",
     "output_type": "stream",
     "text": [
      "プ"
     ]
    },
    {
     "name": "stdout",
     "output_type": "stream",
     "text": [
      "ロ"
     ]
    },
    {
     "name": "stdout",
     "output_type": "stream",
     "text": [
      "ー"
     ]
    },
    {
     "name": "stdout",
     "output_type": "stream",
     "text": [
      "別"
     ]
    },
    {
     "name": "stdout",
     "output_type": "stream",
     "text": [
      "意"
     ]
    },
    {
     "name": "stdout",
     "output_type": "stream",
     "text": [
      "ュ"
     ]
    },
    {
     "name": "stdout",
     "output_type": "stream",
     "text": [
      "。"
     ]
    },
    {
     "name": "stdout",
     "output_type": "stream",
     "text": [
      "よ"
     ]
    },
    {
     "name": "stdout",
     "output_type": "stream",
     "text": [
      "く"
     ]
    },
    {
     "name": "stdout",
     "output_type": "stream",
     "text": [
      "朝"
     ]
    },
    {
     "name": "stdout",
     "output_type": "stream",
     "text": [
      "タ"
     ]
    },
    {
     "name": "stdout",
     "output_type": "stream",
     "text": [
      "イ"
     ]
    },
    {
     "name": "stdout",
     "output_type": "stream",
     "text": [
      "…"
     ]
    },
    {
     "name": "stdout",
     "output_type": "stream",
     "text": [
      "隣"
     ]
    },
    {
     "name": "stdout",
     "output_type": "stream",
     "text": [
      "ノ"
     ]
    },
    {
     "name": "stdout",
     "output_type": "stream",
     "text": [
      "を"
     ]
    },
    {
     "name": "stdout",
     "output_type": "stream",
     "text": [
      "魔"
     ]
    },
    {
     "name": "stdout",
     "output_type": "stream",
     "text": [
      "物"
     ]
    },
    {
     "name": "stdout",
     "output_type": "stream",
     "text": [
      "ッ"
     ]
    },
    {
     "name": "stdout",
     "output_type": "stream",
     "text": [
      "わ"
     ]
    },
    {
     "name": "stdout",
     "output_type": "stream",
     "text": [
      "た"
     ]
    },
    {
     "name": "stdout",
     "output_type": "stream",
     "text": [
      "少"
     ]
    },
    {
     "name": "stdout",
     "output_type": "stream",
     "text": [
      "で"
     ]
    },
    {
     "name": "stdout",
     "output_type": "stream",
     "text": [
      "も"
     ]
    },
    {
     "name": "stdout",
     "output_type": "stream",
     "text": [
      "."
     ]
    },
    {
     "name": "stdout",
     "output_type": "stream",
     "text": [
      "."
     ]
    },
    {
     "name": "stdout",
     "output_type": "stream",
     "text": [
      "."
     ]
    },
    {
     "name": "stdout",
     "output_type": "stream",
     "text": [
      "す"
     ]
    },
    {
     "name": "stdout",
     "output_type": "stream",
     "text": [
      "_"
     ]
    },
    {
     "name": "stdout",
     "output_type": "stream",
     "text": [
      "す"
     ]
    },
    {
     "name": "stdout",
     "output_type": "stream",
     "text": [
      "き"
     ]
    },
    {
     "name": "stdout",
     "output_type": "stream",
     "text": [
      "ま"
     ]
    },
    {
     "name": "stdout",
     "output_type": "stream",
     "text": [
      "し"
     ]
    },
    {
     "name": "stdout",
     "output_type": "stream",
     "text": [
      "た"
     ]
    },
    {
     "name": "stdout",
     "output_type": "stream",
     "text": [
      "、"
     ]
    },
    {
     "name": "stdout",
     "output_type": "stream",
     "text": [
      "死"
     ]
    },
    {
     "name": "stdout",
     "output_type": "stream",
     "text": [
      "ん"
     ]
    },
    {
     "name": "stdout",
     "output_type": "stream",
     "text": [
      "じ"
     ]
    },
    {
     "name": "stdout",
     "output_type": "stream",
     "text": [
      "ゃ"
     ]
    },
    {
     "name": "stdout",
     "output_type": "stream",
     "text": [
      "腹"
     ]
    },
    {
     "name": "stdout",
     "output_type": "stream",
     "text": [
      "私"
     ]
    },
    {
     "name": "stdout",
     "output_type": "stream",
     "text": [
      "な"
     ]
    },
    {
     "name": "stdout",
     "output_type": "stream",
     "text": [
      "い"
     ]
    },
    {
     "name": "stdout",
     "output_type": "stream",
     "text": [
      "料"
     ]
    },
    {
     "name": "stdout",
     "output_type": "stream",
     "text": [
      "何"
     ]
    },
    {
     "name": "stdout",
     "output_type": "stream",
     "text": [
      "か"
     ]
    },
    {
     "name": "stdout",
     "output_type": "stream",
     "text": [
      "然"
     ]
    },
    {
     "name": "stdout",
     "output_type": "stream",
     "text": [
      "る"
     ]
    },
    {
     "name": "stdout",
     "output_type": "stream",
     "text": [
      "の"
     ]
    },
    {
     "name": "stdout",
     "output_type": "stream",
     "text": [
      "も"
     ]
    },
    {
     "name": "stdout",
     "output_type": "stream",
     "text": [
      "過"
     ]
    },
    {
     "name": "stdout",
     "output_type": "stream",
     "text": [
      "わ"
     ]
    },
    {
     "name": "stdout",
     "output_type": "stream",
     "text": [
      "か"
     ]
    },
    {
     "name": "stdout",
     "output_type": "stream",
     "text": [
      "い"
     ]
    },
    {
     "name": "stdout",
     "output_type": "stream",
     "text": [
      "っ"
     ]
    },
    {
     "name": "stdout",
     "output_type": "stream",
     "text": [
      "て"
     ]
    },
    {
     "name": "stdout",
     "output_type": "stream",
     "text": [
      "ょ"
     ]
    },
    {
     "name": "stdout",
     "output_type": "stream",
     "text": [
      "う"
     ]
    },
    {
     "name": "stdout",
     "output_type": "stream",
     "text": [
      "&"
     ]
    },
    {
     "name": "stdout",
     "output_type": "stream",
     "text": [
      "出"
     ]
    },
    {
     "name": "stdout",
     "output_type": "stream",
     "text": [
      "て"
     ]
    },
    {
     "name": "stdout",
     "output_type": "stream",
     "text": [
      "う"
     ]
    },
    {
     "name": "stdout",
     "output_type": "stream",
     "text": [
      "い"
     ]
    },
    {
     "name": "stdout",
     "output_type": "stream",
     "text": [
      "意"
     ]
    },
    {
     "name": "stdout",
     "output_type": "stream",
     "text": [
      "味"
     ]
    },
    {
     "name": "stdout",
     "output_type": "stream",
     "text": [
      "一"
     ]
    },
    {
     "name": "stdout",
     "output_type": "stream",
     "text": [
      "お"
     ]
    },
    {
     "name": "stdout",
     "output_type": "stream",
     "text": [
      "む"
     ]
    },
    {
     "name": "stdout",
     "output_type": "stream",
     "text": [
      "と"
     ]
    },
    {
     "name": "stdout",
     "output_type": "stream",
     "text": [
      "こ"
     ]
    },
    {
     "name": "stdout",
     "output_type": "stream",
     "text": [
      "の"
     ]
    },
    {
     "name": "stdout",
     "output_type": "stream",
     "text": [
      "タ"
     ]
    },
    {
     "name": "stdout",
     "output_type": "stream",
     "text": [
      "コ"
     ]
    },
    {
     "name": "stdout",
     "output_type": "stream",
     "text": [
      "神"
     ]
    },
    {
     "name": "stdout",
     "output_type": "stream",
     "text": [
      "取"
     ]
    },
    {
     "name": "stdout",
     "output_type": "stream",
     "text": [
      "に"
     ]
    },
    {
     "name": "stdout",
     "output_type": "stream",
     "text": [
      "ャ"
     ]
    },
    {
     "name": "stdout",
     "output_type": "stream",
     "text": [
      "ン"
     ]
    },
    {
     "name": "stdout",
     "output_type": "stream",
     "text": [
      "し"
     ]
    },
    {
     "name": "stdout",
     "output_type": "stream",
     "text": [
      "の"
     ]
    },
    {
     "name": "stdout",
     "output_type": "stream",
     "text": [
      "馬"
     ]
    },
    {
     "name": "stdout",
     "output_type": "stream",
     "text": [
      "年"
     ]
    },
    {
     "name": "stdout",
     "output_type": "stream",
     "text": [
      "意"
     ]
    },
    {
     "name": "stdout",
     "output_type": "stream",
     "text": [
      "要"
     ]
    },
    {
     "name": "stdout",
     "output_type": "stream",
     "text": [
      "本"
     ]
    },
    {
     "name": "stdout",
     "output_type": "stream",
     "text": [
      "食"
     ]
    },
    {
     "name": "stdout",
     "output_type": "stream",
     "text": [
      "話"
     ]
    },
    {
     "name": "stdout",
     "output_type": "stream",
     "text": [
      "で"
     ]
    },
    {
     "name": "stdout",
     "output_type": "stream",
     "text": [
      "か"
     ]
    },
    {
     "name": "stdout",
     "output_type": "stream",
     "text": [
      "り"
     ]
    },
    {
     "name": "stdout",
     "output_type": "stream",
     "text": [
      "、"
     ]
    },
    {
     "name": "stdout",
     "output_type": "stream",
     "text": [
      "話"
     ]
    },
    {
     "name": "stdout",
     "output_type": "stream",
     "text": [
      "表"
     ]
    },
    {
     "name": "stdout",
     "output_type": "stream",
     "text": [
      "ウ"
     ]
    },
    {
     "name": "stdout",
     "output_type": "stream",
     "text": [
      "ヒ"
     ]
    },
    {
     "name": "stdout",
     "output_type": "stream",
     "text": [
      "ラ"
     ]
    },
    {
     "name": "stdout",
     "output_type": "stream",
     "text": [
      "ノ"
     ]
    },
    {
     "name": "stdout",
     "output_type": "stream",
     "text": [
      "ョ"
     ]
    },
    {
     "name": "stdout",
     "output_type": "stream",
     "text": [
      "ラ"
     ]
    },
    {
     "name": "stdout",
     "output_type": "stream",
     "text": [
      "を"
     ]
    },
    {
     "name": "stdout",
     "output_type": "stream",
     "text": [
      "明"
     ]
    },
    {
     "name": "stdout",
     "output_type": "stream",
     "text": [
      "た"
     ]
    },
    {
     "name": "stdout",
     "output_type": "stream",
     "text": [
      "・"
     ]
    },
    {
     "name": "stdout",
     "output_type": "stream",
     "text": [
      "イ"
     ]
    },
    {
     "name": "stdout",
     "output_type": "stream",
     "text": [
      "み"
     ]
    },
    {
     "name": "stdout",
     "output_type": "stream",
     "text": [
      "に"
     ]
    },
    {
     "name": "stdout",
     "output_type": "stream",
     "text": [
      "車"
     ]
    },
    {
     "name": "stdout",
     "output_type": "stream",
     "text": [
      "を"
     ]
    },
    {
     "name": "stdout",
     "output_type": "stream",
     "text": [
      "見"
     ]
    },
    {
     "name": "stdout",
     "output_type": "stream",
     "text": [
      "聞"
     ]
    },
    {
     "name": "stdout",
     "output_type": "stream",
     "text": [
      "こ"
     ]
    },
    {
     "name": "stdout",
     "output_type": "stream",
     "text": [
      "と"
     ]
    },
    {
     "name": "stdout",
     "output_type": "stream",
     "text": [
      "「"
     ]
    },
    {
     "name": "stdout",
     "output_type": "stream",
     "text": [
      "ク"
     ]
    },
    {
     "name": "stdout",
     "output_type": "stream",
     "text": [
      "そ"
     ]
    },
    {
     "name": "stdout",
     "output_type": "stream",
     "text": [
      "く"
     ]
    },
    {
     "name": "stdout",
     "output_type": "stream",
     "text": [
      "ぁ"
     ]
    },
    {
     "name": "stdout",
     "output_type": "stream",
     "text": [
      "…"
     ]
    },
    {
     "name": "stdout",
     "output_type": "stream",
     "text": [
      "ド"
     ]
    },
    {
     "name": "stdout",
     "output_type": "stream",
     "text": [
      "ラ"
     ]
    },
    {
     "name": "stdout",
     "output_type": "stream",
     "text": [
      "ク"
     ]
    },
    {
     "name": "stdout",
     "output_type": "stream",
     "text": [
      "ピ"
     ]
    },
    {
     "name": "stdout",
     "output_type": "stream",
     "text": [
      "。"
     ]
    },
    {
     "name": "stdout",
     "output_type": "stream",
     "text": [
      "結"
     ]
    },
    {
     "name": "stdout",
     "output_type": "stream",
     "text": [
      "び"
     ]
    },
    {
     "name": "stdout",
     "output_type": "stream",
     "text": [
      "っ"
     ]
    },
    {
     "name": "stdout",
     "output_type": "stream",
     "text": [
      "く"
     ]
    },
    {
     "name": "stdout",
     "output_type": "stream",
     "text": [
      "も"
     ]
    },
    {
     "name": "stdout",
     "output_type": "stream",
     "text": [
      "っ"
     ]
    },
    {
     "name": "stdout",
     "output_type": "stream",
     "text": [
      "と"
     ]
    },
    {
     "name": "stdout",
     "output_type": "stream",
     "text": [
      "出"
     ]
    },
    {
     "name": "stdout",
     "output_type": "stream",
     "text": [
      "知"
     ]
    },
    {
     "name": "stdout",
     "output_type": "stream",
     "text": [
      "り"
     ]
    },
    {
     "name": "stdout",
     "output_type": "stream",
     "text": [
      "ま"
     ]
    },
    {
     "name": "stdout",
     "output_type": "stream",
     "text": [
      "し"
     ]
    },
    {
     "name": "stdout",
     "output_type": "stream",
     "text": [
      "た"
     ]
    },
    {
     "name": "stdout",
     "output_type": "stream",
     "text": [
      "飛"
     ]
    },
    {
     "name": "stdout",
     "output_type": "stream",
     "text": [
      "ん"
     ]
    },
    {
     "name": "stdout",
     "output_type": "stream",
     "text": [
      "で"
     ]
    }
   ],
   "source": [
    "sentence = text[start_index: start_index + maxlen]\n",
    "for i in range(140):\n",
    "    x_pred = np.zeros((1, maxlen, len(chars)))\n",
    "    for t, char in enumerate(sentence):\n",
    "        x_pred[0, t, char_indices[char]] = 1.\n",
    "        \n",
    "    preds = model.predict(x_pred, verbose=0)[0]\n",
    "    next_index = sample(preds, 1.2)\n",
    "    next_char = indices_char[next_index]\n",
    "    \n",
    "    generated += next_char\n",
    "    sentence = sentence[1:] + next_char\n",
    "    \n",
    "    sys.stdout.write(next_char)\n",
    "    sys.stdout.flush()"
   ]
  },
  {
   "cell_type": "code",
   "execution_count": null,
   "metadata": {},
   "outputs": [],
   "source": []
  }
 ],
 "metadata": {
  "kernelspec": {
   "display_name": "Python 2",
   "language": "python",
   "name": "python2"
  },
  "language_info": {
   "codemirror_mode": {
    "name": "ipython",
    "version": 2
   },
   "file_extension": ".py",
   "mimetype": "text/x-python",
   "name": "python",
   "nbconvert_exporter": "python",
   "pygments_lexer": "ipython2",
   "version": "2.7.6"
  }
 },
 "nbformat": 4,
 "nbformat_minor": 0
}
